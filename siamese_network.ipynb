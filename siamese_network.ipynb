{
 "cells": [
  {
   "cell_type": "code",
   "execution_count": 20,
   "metadata": {},
   "outputs": [],
   "source": [
    "import os\n",
    "import tensorflow.keras.backend as K\n",
    "import matplotlib.pyplot as plt\n",
    "import numpy as np\n",
    "import tensorflow as tf\n",
    "from tensorflow.keras.models import Model\n",
    "from tensorflow.keras.layers import Input\n",
    "from tensorflow.keras.layers import Conv2D\n",
    "from tensorflow.keras.layers import Dense\n",
    "from tensorflow.keras.layers import Dropout\n",
    "from tensorflow.keras.layers import GlobalAveragePooling2D\n",
    "from tensorflow.keras.layers import MaxPooling2D\n",
    "\n",
    "from tensorflow.keras import layers, models, Input\n",
    "\n",
    "from PIL import Image, ImageFont, ImageDraw\n",
    "import random\n",
    "from keras.preprocessing.image import load_img, img_to_array\n",
    "from sklearn.model_selection import train_test_split\n",
    "\n",
    "data_directory = 'sketch_small'\n",
    "TARGET_SIZE = (64, 64, 1)\n",
    "EPOCHS = 10\n",
    "BATCH_SIZE = 32"
   ]
  },
  {
   "cell_type": "code",
   "execution_count": 12,
   "metadata": {},
   "outputs": [],
   "source": [
    "def create_pairs(directory):\n",
    "    #directory is the path of the dataset (main folder)\n",
    "    #folders are classes in dataset\n",
    "    pairs = []\n",
    "    labels = []\n",
    "    \n",
    "    folders = os.listdir(directory)\n",
    "    for folder_name in folders:\n",
    "        folder_path = os.path.join(directory, folder_name)\n",
    "        \n",
    "        if os.path.isdir(folder_path):\n",
    "            images = os.listdir(folder_path)\n",
    "            \n",
    "            folder_length = len(images)\n",
    "            for i in range(folder_length):\n",
    "                for j in range(folder_length):\n",
    "                    if i != j:\n",
    "                        image_path = os.path.join(folder_path, images[i])\n",
    "                        pairs.append([image_path, os.path.join(folder_path, images[j])])\n",
    "                        labels.append(1)#positive pairs\n",
    "                        \n",
    "                        dif_folder = random.choice([x for x in folders if x != folder_name])\n",
    "                        dif_folder_path = os.path.join(directory, dif_folder)\n",
    "                        dif_image_path = os.path.join(dif_folder_path, random.choice(os.listdir(dif_folder_path)))\n",
    "\n",
    "                        pairs.append([image_path, dif_image_path])\n",
    "                        labels.append(0)#negative pairs\n",
    "                        \n",
    "    return np.array(pairs), np.array(labels) "
   ]
  },
  {
   "cell_type": "code",
   "execution_count": 21,
   "metadata": {},
   "outputs": [],
   "source": [
    "def process_images(pairs, target_size):\n",
    "    images = []\n",
    "     \n",
    "    for pair in pairs:\n",
    "        img1 = load_img(pair[0], target_size=target_size, color_mode='grayscale')\n",
    "        img2 = load_img(pair[1], target_size=target_size, color_mode='grayscale')\n",
    "\n",
    "        images.append((img1, img2))\n",
    "        \n",
    "    return images"
   ]
  },
  {
   "cell_type": "code",
   "execution_count": 22,
   "metadata": {},
   "outputs": [],
   "source": [
    "def euclidean_distance(vecs):\n",
    "    (imgA, imgB) = vecs\n",
    "    ss = K.sum(K.square(imgA - imgB), axis = 1, keepdims=True)\n",
    "    return K.sqrt(K.maximum(ss, K.epsilon()))"
   ]
  },
  {
   "cell_type": "code",
   "execution_count": 23,
   "metadata": {},
   "outputs": [],
   "source": [
    "def siamese_model(input_shape, embeddingDim = 48):\n",
    "    inputs = Input(input_shape)\n",
    "    x = Conv2D(128, (2, 2), padding = \"same\", activation = \"relu\")(inputs)\n",
    "    x = MaxPooling2D(pool_size=(2, 2))(x)\n",
    "    x = Dropout(0.4)(x)\n",
    "\n",
    "    x = Conv2D(128, (2, 2), padding = \"same\", activation = \"relu\")(inputs)\n",
    "    x = MaxPooling2D(pool_size=(2, 2))(x)\n",
    "    x = Dropout(0.4)(x)\n",
    "\n",
    "\n",
    "    pooling = GlobalAveragePooling2D()(x)\n",
    "    outputs = Dense(embeddingDim)(pooling)\n",
    "    model = Model(inputs, outputs)\n",
    "\n",
    "\n",
    "    return model"
   ]
  },
  {
   "cell_type": "code",
   "execution_count": 24,
   "metadata": {},
   "outputs": [],
   "source": [
    "def contrastiveLoss(y, y_preds, margin=1):\n",
    "    y = tf.cast(y, y_preds.dtype)\n",
    "    y_preds_squared = K.square(y_preds)\n",
    "    margin_squared = K.square(K.maximum(margin - y_preds, 0))\n",
    "    loss = K.mean(y * y_preds_squared + (1 - y) * margin_squared)\n",
    "    return loss"
   ]
  },
  {
   "cell_type": "code",
   "execution_count": 25,
   "metadata": {},
   "outputs": [],
   "source": [
    "X, y = create_pairs(data_directory)\n",
    "X = process_images(X, TARGET_SIZE)\n",
    "\n",
    "X_train, X_test, y_train, y_test = train_test_split(X, y, test_size=0.3, random_state=42)"
   ]
  },
  {
   "cell_type": "code",
   "execution_count": 18,
   "metadata": {},
   "outputs": [],
   "source": [
    "X_train, X_test, y_train, y_test = np.array(X_train), np.array(X_test), np.array(y_train), np.array(y_test)"
   ]
  },
  {
   "cell_type": "code",
   "execution_count": 19,
   "metadata": {},
   "outputs": [
    {
     "data": {
      "text/plain": [
       "(17850, 2, 64, 64, 3)"
      ]
     },
     "execution_count": 19,
     "metadata": {},
     "output_type": "execute_result"
    }
   ],
   "source": [
    "X_train.shape"
   ]
  },
  {
   "cell_type": "code",
   "execution_count": null,
   "metadata": {},
   "outputs": [],
   "source": []
  }
 ],
 "metadata": {
  "kernelspec": {
   "display_name": "Python 3",
   "language": "python",
   "name": "python3"
  },
  "language_info": {
   "codemirror_mode": {
    "name": "ipython",
    "version": 3
   },
   "file_extension": ".py",
   "mimetype": "text/x-python",
   "name": "python",
   "nbconvert_exporter": "python",
   "pygments_lexer": "ipython3",
   "version": "3.10.11"
  }
 },
 "nbformat": 4,
 "nbformat_minor": 2
}
