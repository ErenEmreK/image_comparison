{
 "cells": [
  {
   "cell_type": "code",
   "execution_count": null,
   "metadata": {},
   "outputs": [],
   "source": [
    "from tensorflow.keras import layers, models, Input\n",
    "from keras.layers import Input, Dense, Dropout, Flatten, Lambda\n",
    "from keras.models import Model\n",
    "import os\n",
    "import numpy as np\n",
    "import matplotlib.pyplot as plt\n",
    "from PIL import Image, ImageFont, ImageDraw\n",
    "\n",
    "from functions import prepare_data, euclidean_distance, contrastiveLoss\n",
    "\n",
    "data_directory = 'sketch_small'\n",
    "TARGET_SIZE = (224, 224)\n",
    "EPOCHS = 10\n",
    "BATCH_SIZE = 32"
   ]
  },
  {
   "cell_type": "code",
   "execution_count": null,
   "metadata": {},
   "outputs": [],
   "source": [
    "X_train, X_test, y_train, y_test = prepare_data(data_directory, TARGET_SIZE)  \n",
    "X_train_left = X_train[:, 0]\n",
    "X_train_right = X_train[:, 1]\n",
    "X_test_left = X_test[:, 0]\n",
    "X_test_right = X_test[:, 1]"
   ]
  },
  {
   "cell_type": "code",
   "execution_count": null,
   "metadata": {},
   "outputs": [],
   "source": [
    "def initialize_base_branch(input_shape=TARGET_SIZE):\n",
    "    input = Input(shape=input_shape, name=\"base_input\")\n",
    "    x = Flatten(name=\"flatten_input\")(input)\n",
    "    x = Dense(128, activation='relu', name=\"first_base_dense\")(x)\n",
    "    x = Dropout(0.3, name=\"first_dropout\")(x)\n",
    "    x = Dense(128, activation='relu', name=\"second_base_dense\")(x)\n",
    "    x = Dropout(0.3, name=\"second_dropout\")(x)\n",
    "    x = Dense(128, activation='relu', name=\"third_base_dense\")(x)\n",
    "\n",
    "    #Returning a Model, with input and outputs, not just a group of layers. \n",
    "    return Model(inputs=input, outputs=x)\n"
   ]
  },
  {
   "cell_type": "code",
   "execution_count": null,
   "metadata": {},
   "outputs": [],
   "source": [
    "#1\n",
    "def siamese_network(input_shape=TARGET_SIZE):\n",
    "    input_left = Input(shape=input_shape)\n",
    "    input_right = Input(shape=input_shape)\n",
    "    \n",
    "    base_branch = initialize_base_branch(input_shape)\n",
    "    \n",
    "    encoded_left = base_branch(input_left)\n",
    "    encoded_right = base_branch(input_right)\n",
    "    \n",
    "    L1_distance = Lambda(lambda tensors: abs(tensors[0] - tensors[1]))([encoded_left, encoded_right])\n",
    "    \n",
    "    prediction = Dense(1, activation='sigmoid')(L1_distance)\n",
    "    \n",
    "    siamese_network = Model(inputs=[input_left, input_right], outputs=prediction)\n",
    "    \n",
    "    return siamese_network\n",
    "\n",
    "siamese_model = siamese_network()\n",
    "siamese_model.compile(optimizer='adam', loss='binary_crossentropy', metrics=['accuracy'])\n",
    "\n",
    "siamese_model.fit([X_train_left, X_train_right], y_train, epochs=EPOCHS, batch_size=BATCH_SIZE, validation_split=0.2)"
   ]
  },
  {
   "cell_type": "code",
   "execution_count": null,
   "metadata": {},
   "outputs": [],
   "source": [
    "#2\n",
    "def siamese_network(input_shape=TARGET_SIZE):\n",
    "    #change loss to contrasive\n",
    "    imageA = Input(shape=input_shape)\n",
    "    imageB = Input(shape=input_shape)\n",
    "\n",
    "    model_build = initialize_base_branch(input_shape)\n",
    "    modelA = model_build(imageA)\n",
    "    modelB = model_build(imageB)\n",
    "\n",
    "    distance = Lambda(euclidean_distance, output_shape=(1,))([modelA, modelB])\n",
    "    model = Model(inputs=[imageA, imageB], outputs=distance)\n",
    "    \n",
    "    return model\n",
    "\n",
    "siamese_model = siamese_network()\n",
    "siamese_model.compile(optimizer='adam', loss=contrastiveLoss, metrics=['accuracy'])\n",
    "\n",
    "siamese_model.fit([X_train_left, X_train_right], y_train, epochs=EPOCHS, batch_size=BATCH_SIZE, validation_split=0.2)"
   ]
  }
 ],
 "metadata": {
  "kernelspec": {
   "display_name": "Python 3",
   "language": "python",
   "name": "python3"
  },
  "language_info": {
   "codemirror_mode": {
    "name": "ipython",
    "version": 3
   },
   "file_extension": ".py",
   "mimetype": "text/x-python",
   "name": "python",
   "nbconvert_exporter": "python",
   "pygments_lexer": "ipython3",
   "version": "3.10.11"
  }
 },
 "nbformat": 4,
 "nbformat_minor": 2
}
