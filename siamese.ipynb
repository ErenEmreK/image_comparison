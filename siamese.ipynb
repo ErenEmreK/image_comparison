{
 "cells": [
  {
   "cell_type": "code",
   "execution_count": 39,
   "metadata": {},
   "outputs": [],
   "source": [
    "from tensorflow.keras import layers, models, Input\n",
    "\n",
    "import os\n",
    "import numpy as np\n",
    "import matplotlib.pyplot as plt\n",
    "from PIL import Image, ImageFont, ImageDraw\n",
    "import random\n",
    "from keras.preprocessing.image import load_img, img_to_array\n",
    "from sklearn.model_selection import train_test_split\n",
    "\n",
    "data_directory = 'sketch_small'\n",
    "TARGET_SIZE = (128, 128, 3)\n",
    "EPOCHS = 10\n",
    "BATCH_SIZE = 32"
   ]
  },
  {
   "cell_type": "code",
   "execution_count": 40,
   "metadata": {},
   "outputs": [],
   "source": [
    "def create_pairs(directory):\n",
    "    #directory is the path of the dataset (main folder)\n",
    "    #folders are classes in dataset\n",
    "    pairs = []\n",
    "    labels = []\n",
    "    \n",
    "    folders = os.listdir(directory)\n",
    "    for folder_name in folders:\n",
    "        folder_path = os.path.join(directory, folder_name)\n",
    "        \n",
    "        if os.path.isdir(folder_path):\n",
    "            images = os.listdir(folder_path)\n",
    "            \n",
    "            folder_length = len(images)\n",
    "            for i in range(folder_length):\n",
    "                for j in range(folder_length):\n",
    "                    if i != j:\n",
    "                        image_path = os.path.join(folder_path, images[i])\n",
    "                        pairs.append([image_path, os.path.join(folder_path, images[j])])\n",
    "                        labels.append(1)#positive pairs\n",
    "                        \n",
    "                        dif_folder = random.choice([x for x in folders if x != folder_name])\n",
    "                        dif_folder_path = os.path.join(directory, dif_folder)\n",
    "                        dif_image_path = os.path.join(dif_folder_path, random.choice(os.listdir(dif_folder_path)))\n",
    "\n",
    "                        pairs.append([image_path, dif_image_path])\n",
    "                        labels.append(0)#negative pairs\n",
    "                        \n",
    "    return np.array(pairs), np.array(labels) "
   ]
  },
  {
   "cell_type": "code",
   "execution_count": 41,
   "metadata": {},
   "outputs": [],
   "source": [
    "def process_images(pairs, target_size):\n",
    "    images = []\n",
    "     \n",
    "    for pair in pairs:\n",
    "      \n",
    "        img1 = np.array(load_img(pair[0], target_size=target_size))\n",
    "        img2 = np.array(load_img(pair[1], target_size=target_size))\n",
    "\n",
    "        images.append((img1, img2))\n",
    "        \n",
    "    return images"
   ]
  },
  {
   "cell_type": "code",
   "execution_count": 42,
   "metadata": {},
   "outputs": [],
   "source": [
    "def prepare_data(directory):\n",
    "    X, y = create_pairs(directory)\n",
    "    X = process_images(X, TARGET_SIZE)\n",
    "    \n",
    "    X_train, X_test, y_train, y_test = train_test_split(X, y, test_size=0.3, random_state=42)\n",
    "    \n",
    "    return np.array(X_train), np.array(X_test), np.array(y_train), np.array(y_test)\n",
    "\n",
    "X_train, X_test, y_train, y_test = prepare_data(data_directory)  "
   ]
  },
  {
   "cell_type": "code",
   "execution_count": 43,
   "metadata": {},
   "outputs": [],
   "source": [
    "def create_siamese(input_shape=TARGET_SIZE):  # Assuming RGB images with height and width of 128 pixels\n",
    "    # Define the base CNN architecture\n",
    "    base_model = models.Sequential()\n",
    "    base_model.add(layers.Conv2D(32, (3, 3), activation='relu', input_shape=input_shape))\n",
    "    base_model.add(layers.MaxPooling2D((2, 2)))\n",
    "    base_model.add(layers.Conv2D(64, (3, 3), activation='relu'))\n",
    "    base_model.add(layers.MaxPooling2D((2, 2)))\n",
    "    base_model.add(layers.Flatten())\n",
    "    base_model.add(layers.Dense(128, activation='relu'))\n",
    "\n",
    "    # Define the left input and right input\n",
    "    left_input = layers.Input(shape=input_shape)\n",
    "    right_input = layers.Input(shape=input_shape)\n",
    "\n",
    "    # Encode each input using the base CNN\n",
    "    encoded_left = base_model(left_input)\n",
    "    encoded_right = base_model(right_input)\n",
    "\n",
    "    # Compute the L1 distance between the encoded outputs\n",
    "    l1_distance = layers.Lambda(lambda tensors: abs(tensors[0] - tensors[1]))([encoded_left, encoded_right])\n",
    "\n",
    "    # Add a dense layer with sigmoid activation to output similarity score\n",
    "    prediction = layers.Dense(1, activation='sigmoid')(l1_distance)\n",
    "\n",
    "    # Connect the inputs with the prediction\n",
    "    siamese_model = models.Model(inputs=[left_input, right_input], outputs=prediction)\n",
    "\n",
    "    return siamese_model\n"
   ]
  },
  {
   "cell_type": "code",
   "execution_count": 46,
   "metadata": {},
   "outputs": [
    {
     "data": {
      "text/plain": [
       "(17850, 128, 128, 3)"
      ]
     },
     "execution_count": 46,
     "metadata": {},
     "output_type": "execute_result"
    }
   ],
   "source": [
    "X_train_left = X_train[:, 0]\n",
    "X_train_right = X_train[:, 1]\n",
    "X_train_left.shape"
   ]
  },
  {
   "cell_type": "code",
   "execution_count": 50,
   "metadata": {},
   "outputs": [
    {
     "name": "stdout",
     "output_type": "stream",
     "text": [
      "Epoch 1/2\n",
      "\u001b[1m447/447\u001b[0m \u001b[32m━━━━━━━━━━━━━━━━━━━━\u001b[0m\u001b[37m\u001b[0m \u001b[1m139s\u001b[0m 306ms/step - accuracy: 0.5003 - loss: 8.1974 - val_accuracy: 0.4950 - val_loss: 0.6989\n",
      "Epoch 2/2\n",
      "\u001b[1m447/447\u001b[0m \u001b[32m━━━━━━━━━━━━━━━━━━━━\u001b[0m\u001b[37m\u001b[0m \u001b[1m136s\u001b[0m 305ms/step - accuracy: 0.5004 - loss: 0.6948 - val_accuracy: 0.5000 - val_loss: 0.6928\n"
     ]
    },
    {
     "data": {
      "text/plain": [
       "<keras.src.callbacks.history.History at 0x217030629e0>"
      ]
     },
     "execution_count": 50,
     "metadata": {},
     "output_type": "execute_result"
    }
   ],
   "source": [
    "siamese_model = create_siamese()\n",
    "siamese_model.compile(optimizer='adam', loss='binary_crossentropy', metrics=['accuracy'])\n",
    "siamese_model.fit([X_train_left, X_train_right], y_train, epochs=2, batch_size=32, validation_split=0.2)"
   ]
  },
  {
   "cell_type": "code",
   "execution_count": 67,
   "metadata": {},
   "outputs": [
    {
     "data": {
      "text/plain": [
       "(1, 128, 128, 3)"
      ]
     },
     "execution_count": 67,
     "metadata": {},
     "output_type": "execute_result"
    }
   ],
   "source": [
    "im1 = np.array(X_train_left[120])\n",
    "im2 = np.array(X_train_right[1224])\n",
    "\n",
    "im1 = im1.reshape(1, im1.shape[0], im1.shape[1], im1.shape[2])\n",
    "im2 = im2.reshape(1, im2.shape[0], im2.shape[1], im2.shape[2])\n",
    "\n",
    "im2.shape"
   ]
  },
  {
   "cell_type": "code",
   "execution_count": 69,
   "metadata": {},
   "outputs": [
    {
     "name": "stdout",
     "output_type": "stream",
     "text": [
      "\u001b[1m1/1\u001b[0m \u001b[32m━━━━━━━━━━━━━━━━━━━━\u001b[0m\u001b[37m\u001b[0m \u001b[1m0s\u001b[0m 30ms/step\n",
      "[[0.4999949]]\n",
      "0\n"
     ]
    }
   ],
   "source": [
    "p = siamese_model.predict([im1, im2])\n",
    "print(p)\n"
   ]
  }
 ],
 "metadata": {
  "kernelspec": {
   "display_name": "Python 3",
   "language": "python",
   "name": "python3"
  },
  "language_info": {
   "codemirror_mode": {
    "name": "ipython",
    "version": 3
   },
   "file_extension": ".py",
   "mimetype": "text/x-python",
   "name": "python",
   "nbconvert_exporter": "python",
   "pygments_lexer": "ipython3",
   "version": "3.10.11"
  }
 },
 "nbformat": 4,
 "nbformat_minor": 2
}
