{
 "cells": [
  {
   "cell_type": "code",
   "execution_count": 109,
   "metadata": {},
   "outputs": [],
   "source": [
    "from tensorflow.keras import layers, models, Input\n",
    "\n",
    "import os\n",
    "import numpy as np\n",
    "import matplotlib.pyplot as plt\n",
    "from PIL import Image, ImageFont, ImageDraw\n",
    "import random\n",
    "from keras.preprocessing.image import load_img, img_to_array\n",
    "from sklearn.model_selection import train_test_split\n",
    "\n",
    "data_directory = 'sketch_small'\n",
    "TARGET_SIZE = (64, 64, 3)\n",
    "EPOCHS = 10\n",
    "BATCH_SIZE = 32"
   ]
  },
  {
   "cell_type": "code",
   "execution_count": 102,
   "metadata": {},
   "outputs": [],
   "source": [
    "def create_pairs(directory):\n",
    "    #directory is the path of the dataset (main folder)\n",
    "    #folders are classes in dataset\n",
    "    pairs = []\n",
    "    labels = []\n",
    "    \n",
    "    folders = os.listdir(directory)\n",
    "    for folder_name in folders:\n",
    "        folder_path = os.path.join(directory, folder_name)\n",
    "        \n",
    "        if os.path.isdir(folder_path):\n",
    "            images = os.listdir(folder_path)\n",
    "            \n",
    "            folder_length = len(images)\n",
    "            for i in range(folder_length):\n",
    "                for j in range(folder_length):\n",
    "                    if i != j:\n",
    "                        image_path = os.path.join(folder_path, images[i])\n",
    "                        pairs.append([image_path, os.path.join(folder_path, images[j])])\n",
    "                        labels.append(1)#positive pairs\n",
    "                        \n",
    "                        dif_folder = random.choice([x for x in folders if x != folder_name])\n",
    "                        dif_folder_path = os.path.join(directory, dif_folder)\n",
    "                        dif_image_path = os.path.join(dif_folder_path, random.choice(os.listdir(dif_folder_path)))\n",
    "\n",
    "                        pairs.append([image_path, dif_image_path])\n",
    "                        labels.append(0)#negative pairs\n",
    "                        \n",
    "    return np.array(pairs), np.array(labels) "
   ]
  },
  {
   "cell_type": "code",
   "execution_count": 103,
   "metadata": {},
   "outputs": [],
   "source": [
    "def process_images(pairs, target_size):\n",
    "    images = []\n",
    "     \n",
    "    for pair in pairs:\n",
    "      \n",
    "        img1 = np.array(load_img(pair[0], target_size=target_size))\n",
    "        img2 = np.array(load_img(pair[1], target_size=target_size))\n",
    "\n",
    "        images.append((img1, img2))\n",
    "        \n",
    "    return images"
   ]
  },
  {
   "cell_type": "code",
   "execution_count": 104,
   "metadata": {},
   "outputs": [],
   "source": [
    "def prepare_data(directory):\n",
    "    X, y = create_pairs(directory)\n",
    "    X = process_images(X, TARGET_SIZE)\n",
    "    \n",
    "    X_train, X_test, y_train, y_test = train_test_split(X, y, test_size=0.3, random_state=42)\n",
    "    \n",
    "    return np.array(X_train), np.array(X_test), np.array(y_train), np.array(y_test)\n",
    "\n",
    "X_train, X_test, y_train, y_test = prepare_data(data_directory)  "
   ]
  },
  {
   "cell_type": "code",
   "execution_count": 105,
   "metadata": {},
   "outputs": [],
   "source": [
    "X_train_left = X_train[:, 0]\n",
    "X_train_right = X_train[:, 1]"
   ]
  },
  {
   "cell_type": "code",
   "execution_count": 106,
   "metadata": {},
   "outputs": [],
   "source": [
    "from keras.layers import Input, Dense, Dropout, Flatten, Lambda\n",
    "from keras.models import Model\n",
    "\n",
    "def initialize_base_branch():\n",
    "    input = Input(shape=TARGET_SIZE, name=\"base_input\")\n",
    "    x = Flatten(name=\"flatten_input\")(input)\n",
    "    x = Dense(128, activation='relu', name=\"first_base_dense\")(x)\n",
    "    x = Dropout(0.3, name=\"first_dropout\")(x)\n",
    "    x = Dense(128, activation='relu', name=\"second_base_dense\")(x)\n",
    "    x = Dropout(0.3, name=\"second_dropout\")(x)\n",
    "    x = Dense(128, activation='relu', name=\"third_base_dense\")(x)\n",
    "\n",
    "    #Returning a Model, with input and outputs, not just a group of layers. \n",
    "    return Model(inputs=input, outputs=x)\n"
   ]
  },
  {
   "cell_type": "code",
   "execution_count": 107,
   "metadata": {},
   "outputs": [],
   "source": [
    "def initialize_siamese_network(input_shape=TARGET_SIZE):\n",
    "    input_left = Input(shape=input_shape)\n",
    "    input_right = Input(shape=input_shape)\n",
    "    \n",
    "    base_branch = initialize_base_branch()\n",
    "    \n",
    "    encoded_left = base_branch(input_left)\n",
    "    encoded_right = base_branch(input_right)\n",
    "    \n",
    "    L1_distance = Lambda(lambda tensors: abs(tensors[0] - tensors[1]))([encoded_left, encoded_right])\n",
    "    \n",
    "    prediction = Dense(1, activation='sigmoid')(L1_distance)\n",
    "    \n",
    "    siamese_network = Model(inputs=[input_left, input_right], outputs=prediction)\n",
    "    \n",
    "    return siamese_network\n",
    "\n",
    "siamese_model = initialize_siamese_network()\n"
   ]
  },
  {
   "cell_type": "code",
   "execution_count": 110,
   "metadata": {},
   "outputs": [
    {
     "name": "stdout",
     "output_type": "stream",
     "text": [
      "Epoch 1/10\n",
      "\u001b[1m447/447\u001b[0m \u001b[32m━━━━━━━━━━━━━━━━━━━━\u001b[0m\u001b[37m\u001b[0m \u001b[1m9s\u001b[0m 16ms/step - accuracy: 0.5061 - loss: 0.6931 - val_accuracy: 0.4969 - val_loss: 0.6932\n",
      "Epoch 2/10\n",
      "\u001b[1m447/447\u001b[0m \u001b[32m━━━━━━━━━━━━━━━━━━━━\u001b[0m\u001b[37m\u001b[0m \u001b[1m7s\u001b[0m 15ms/step - accuracy: 0.4984 - loss: 0.6932 - val_accuracy: 0.4969 - val_loss: 0.6932\n",
      "Epoch 3/10\n",
      "\u001b[1m447/447\u001b[0m \u001b[32m━━━━━━━━━━━━━━━━━━━━\u001b[0m\u001b[37m\u001b[0m \u001b[1m7s\u001b[0m 16ms/step - accuracy: 0.5020 - loss: 0.6932 - val_accuracy: 0.4969 - val_loss: 0.6932\n",
      "Epoch 4/10\n",
      "\u001b[1m447/447\u001b[0m \u001b[32m━━━━━━━━━━━━━━━━━━━━\u001b[0m\u001b[37m\u001b[0m \u001b[1m7s\u001b[0m 15ms/step - accuracy: 0.4935 - loss: 0.6932 - val_accuracy: 0.4969 - val_loss: 0.6932\n",
      "Epoch 5/10\n",
      "\u001b[1m447/447\u001b[0m \u001b[32m━━━━━━━━━━━━━━━━━━━━\u001b[0m\u001b[37m\u001b[0m \u001b[1m7s\u001b[0m 15ms/step - accuracy: 0.4983 - loss: 0.6932 - val_accuracy: 0.4969 - val_loss: 0.6932\n",
      "Epoch 6/10\n",
      "\u001b[1m447/447\u001b[0m \u001b[32m━━━━━━━━━━━━━━━━━━━━\u001b[0m\u001b[37m\u001b[0m \u001b[1m8s\u001b[0m 17ms/step - accuracy: 0.5059 - loss: 0.6931 - val_accuracy: 0.4969 - val_loss: 0.6932\n",
      "Epoch 7/10\n",
      "\u001b[1m447/447\u001b[0m \u001b[32m━━━━━━━━━━━━━━━━━━━━\u001b[0m\u001b[37m\u001b[0m \u001b[1m7s\u001b[0m 16ms/step - accuracy: 0.5018 - loss: 0.6932 - val_accuracy: 0.4969 - val_loss: 0.6932\n",
      "Epoch 8/10\n",
      "\u001b[1m447/447\u001b[0m \u001b[32m━━━━━━━━━━━━━━━━━━━━\u001b[0m\u001b[37m\u001b[0m \u001b[1m7s\u001b[0m 15ms/step - accuracy: 0.4937 - loss: 0.6932 - val_accuracy: 0.4969 - val_loss: 0.6932\n",
      "Epoch 9/10\n",
      "\u001b[1m447/447\u001b[0m \u001b[32m━━━━━━━━━━━━━━━━━━━━\u001b[0m\u001b[37m\u001b[0m \u001b[1m7s\u001b[0m 15ms/step - accuracy: 0.4973 - loss: 0.6932 - val_accuracy: 0.4969 - val_loss: 0.6932\n",
      "Epoch 10/10\n",
      "\u001b[1m447/447\u001b[0m \u001b[32m━━━━━━━━━━━━━━━━━━━━\u001b[0m\u001b[37m\u001b[0m \u001b[1m7s\u001b[0m 14ms/step - accuracy: 0.5006 - loss: 0.6932 - val_accuracy: 0.4969 - val_loss: 0.6932\n"
     ]
    },
    {
     "data": {
      "text/plain": [
       "<keras.src.callbacks.history.History at 0x21703ecbca0>"
      ]
     },
     "execution_count": 110,
     "metadata": {},
     "output_type": "execute_result"
    }
   ],
   "source": [
    "siamese_model.compile(optimizer='adam', loss='binary_crossentropy', metrics=['accuracy'])\n",
    "\n",
    "siamese_model.fit([X_train_left, X_train_right], y_train, epochs=EPOCHS, batch_size=BATCH_SIZE, validation_split=0.2)\n"
   ]
  }
 ],
 "metadata": {
  "kernelspec": {
   "display_name": "Python 3",
   "language": "python",
   "name": "python3"
  },
  "language_info": {
   "codemirror_mode": {
    "name": "ipython",
    "version": 3
   },
   "file_extension": ".py",
   "mimetype": "text/x-python",
   "name": "python",
   "nbconvert_exporter": "python",
   "pygments_lexer": "ipython3",
   "version": "3.10.11"
  }
 },
 "nbformat": 4,
 "nbformat_minor": 2
}
